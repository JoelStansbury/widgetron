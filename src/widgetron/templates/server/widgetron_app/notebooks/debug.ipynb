{
 "cells": [
  {
   "cell_type": "markdown",
   "id": "104ecddd-14c4-439a-a043-609a43c6ca80",
   "metadata": {},
   "source": [
    "### Jupyter Config"
   ]
  },
  {
   "cell_type": "code",
   "execution_count": null,
   "id": "828cf4af-4a6b-4468-9257-c1e201838e86",
   "metadata": {
    "tags": []
   },
   "outputs": [],
   "source": [
    "!jupyter --config"
   ]
  },
  {
   "cell_type": "markdown",
   "id": "c3d83d6d-3fa4-47de-ba32-5ab264109c1b",
   "metadata": {},
   "source": [
    "### Jupyter Paths"
   ]
  },
  {
   "cell_type": "code",
   "execution_count": null,
   "id": "ca145977-e097-4fbd-8aae-6b37b1727be6",
   "metadata": {
    "tags": []
   },
   "outputs": [],
   "source": [
    "!jupyter --paths --debug"
   ]
  },
  {
   "cell_type": "markdown",
   "id": "e287a7fb-8259-4348-b4f4-38c4db3118fb",
   "metadata": {},
   "source": [
    "### Jupyter Kernelspecs"
   ]
  },
  {
   "cell_type": "code",
   "execution_count": null,
   "id": "2adb0a9b-5fa7-453b-9155-4b472cb579be",
   "metadata": {
    "tags": []
   },
   "outputs": [],
   "source": [
    "!jupyter kernelspec list"
   ]
  },
  {
   "cell_type": "markdown",
   "id": "d22e74eb-ecd7-4600-beaf-70284a9873fc",
   "metadata": {},
   "source": [
    "### CONDA config"
   ]
  },
  {
   "cell_type": "code",
   "execution_count": null,
   "id": "fb0d202e-af9a-4d14-804b-22a8a818789c",
   "metadata": {
    "tags": []
   },
   "outputs": [],
   "source": [
    "!conda config --show"
   ]
  },
  {
   "cell_type": "markdown",
   "id": "81b003bd-8a97-4c3c-a791-df16f3564f11",
   "metadata": {},
   "source": [
    "### Environment Variables"
   ]
  },
  {
   "cell_type": "code",
   "execution_count": null,
   "id": "50f5d259-6af7-4071-ab50-6eda70d1aaf6",
   "metadata": {
    "tags": []
   },
   "outputs": [],
   "source": [
    "import os\n",
    "os.environ"
   ]
  },
  {
   "cell_type": "markdown",
   "id": "d26b622a-af45-44fd-b8fa-09032b911622",
   "metadata": {},
   "source": [
    "### Python Path"
   ]
  },
  {
   "cell_type": "code",
   "execution_count": null,
   "id": "66673c2a-173a-4d48-97b7-913c9eed7e04",
   "metadata": {
    "tags": []
   },
   "outputs": [],
   "source": [
    "import sys\n",
    "sys.executable"
   ]
  },
  {
   "cell_type": "markdown",
   "id": "1696bc6a-edb8-4b70-89cc-bd3b69230658",
   "metadata": {},
   "source": [
    "### Conda Environments"
   ]
  },
  {
   "cell_type": "code",
   "execution_count": null,
   "id": "d907f43b-2e3e-49ca-a74d-532d6313b780",
   "metadata": {},
   "outputs": [],
   "source": [
    "!conda env list"
   ]
  },
  {
   "cell_type": "code",
   "execution_count": null,
   "id": "57a1872e-3ee9-4177-9d22-8a56b3762254",
   "metadata": {},
   "outputs": [],
   "source": []
  }
 ],
 "metadata": {
  "kernelspec": {
   "display_name": "Python 3 (ipykernel)",
   "language": "python",
   "name": "python3"
  },
  "language_info": {
   "codemirror_mode": {
    "name": "ipython",
    "version": 3
   },
   "file_extension": ".py",
   "mimetype": "text/x-python",
   "name": "python",
   "nbconvert_exporter": "python",
   "pygments_lexer": "ipython3",
   "version": "3.11.0"
  }
 },
 "nbformat": 4,
 "nbformat_minor": 5
}
