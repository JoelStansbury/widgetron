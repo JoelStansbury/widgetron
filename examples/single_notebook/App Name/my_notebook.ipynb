{
 "cells": [
  {
   "cell_type": "markdown",
   "id": "624c98d1-fb79-4c68-ae8e-bb6b025dc8cd",
   "metadata": {},
   "source": [
    "#### Setting environment variables\n",
    "- Include `python-dotenv` in the environment file\n",
    "- Place a file named `env` in the notebook directory with all of the variables\n",
    "\n",
    "These variables are loaded into the environment before the `jupyterlab` command is executed"
   ]
  },
  {
   "cell_type": "code",
   "execution_count": null,
   "id": "0156586a-3fe3-4f8a-bbb7-4614c85fcbef",
   "metadata": {},
   "outputs": [],
   "source": [
    "import os\n",
    "print(os.environ[\"MY_VAR\"])"
   ]
  },
  {
   "cell_type": "markdown",
   "id": "0960a437-e0ca-49b7-b843-b43a554d239d",
   "metadata": {},
   "source": [
    "#### Including source files\n",
    "- Place all source files in the notebook directory\n",
    "- Ensure the notebook uses relative imports\n",
    "- Ensure all `__pycache__` and `.ipynb_checkpoint` directories are deleted before packaging\n",
    "\n",
    "It is better to build a conda-package, and include that in the environment, but this can work for very simple packages"
   ]
  },
  {
   "cell_type": "code",
   "execution_count": null,
   "id": "c856c39a-2b46-4130-b3a4-523cd468af4e",
   "metadata": {},
   "outputs": [],
   "source": [
    "from my_package.my_module import my_widget\n",
    "my_widget"
   ]
  },
  {
   "cell_type": "code",
   "execution_count": null,
   "id": "aed92af7-1feb-42fc-a284-f6d0655905c4",
   "metadata": {},
   "outputs": [],
   "source": [
    "print(\"this is a test\")"
   ]
  }
 ],
 "metadata": {
  "kernelspec": {
   "display_name": "Python 3 (ipykernel)",
   "language": "python",
   "name": "python3"
  },
  "language_info": {
   "codemirror_mode": {
    "name": "ipython",
    "version": 3
   },
   "file_extension": ".py",
   "mimetype": "text/x-python",
   "name": "python",
   "nbconvert_exporter": "python",
   "pygments_lexer": "ipython3",
   "version": "3.11.0"
  }
 },
 "nbformat": 4,
 "nbformat_minor": 5
}
